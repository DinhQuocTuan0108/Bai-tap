{
  "cells": [
    {
      "cell_type": "markdown",
      "metadata": {
        "id": "view-in-github",
        "colab_type": "text"
      },
      "source": [
        "<a href=\"https://colab.research.google.com/github/DinhQuocTuan0108/Bai-tap/blob/main/project.ipynb\" target=\"_parent\"><img src=\"https://colab.research.google.com/assets/colab-badge.svg\" alt=\"Open In Colab\"/></a>"
      ]
    },
    {
      "cell_type": "code",
      "execution_count": 1,
      "metadata": {
        "id": "MeKgk65MdO_o"
      },
      "outputs": [],
      "source": [
        "# Khai báo và sử dụng các thư viện sau\n",
        "from sklearn.model_selection import train_test_split\n",
        "import matplotlib.pyplot as plt\n",
        "import os\n",
        "import numpy as np\n",
        "import tensorflow as tf\n",
        "from keras.utils import np_utils\n",
        "from keras.models import Sequential\n",
        "from keras.layers import Dense, Activation, Dropout, Conv2D, MaxPooling2D, Flatten\n",
        "from tensorflow.keras.optimizers import SGD, RMSprop\n",
        "from keras.callbacks import EarlyStopping, ModelCheckpoint\n",
        "from sklearn.utils import validation \n",
        "from sklearn import preprocessing\n",
        "from tensorflow.keras.utils import to_categorical\n",
        "from tensorflow.keras.models import load_model\n",
        "from tensorflow.keras.utils import load_img, img_to_array\n",
        "from tensorflow.keras.preprocessing.image import ImageDataGenerator"
      ]
    },
    {
      "cell_type": "code",
      "execution_count": 2,
      "metadata": {
        "colab": {
          "base_uri": "https://localhost:8080/"
        },
        "id": "6ClDlXRsde1V",
        "outputId": "add42e64-d430-4af0-ef18-824edc8d7f92"
      },
      "outputs": [
        {
          "output_type": "stream",
          "name": "stdout",
          "text": [
            "/content/drive/MyDrive/Colab_Notebooks/project\n"
          ]
        }
      ],
      "source": [
        "%cd /content/drive/MyDrive/Colab_Notebooks/project/\n"
      ]
    },
    {
      "cell_type": "code",
      "execution_count": 3,
      "metadata": {
        "id": "0BHYlU_ZdeyZ"
      },
      "outputs": [],
      "source": [
        "# Tạo ra class ImageDataGenerator để chỉnh sửa ảnh \n",
        "train_datagen=ImageDataGenerator(rescale=1./255, shear_range=0.2, zoom_range=0.2, horizontal_flip=True)"
      ]
    },
    {
      "cell_type": "code",
      "execution_count": 4,
      "metadata": {
        "colab": {
          "base_uri": "https://localhost:8080/"
        },
        "id": "eu7o-iOodets",
        "outputId": "ad817184-e363-459f-b2ba-e75ff1f939cd"
      },
      "outputs": [
        {
          "output_type": "stream",
          "name": "stdout",
          "text": [
            "Found 7439 images belonging to 8 classes.\n"
          ]
        }
      ],
      "source": [
        "# Tạo bộ dữ liệu training set\n",
        "training_set=train_datagen.flow_from_directory('/content/drive/MyDrive/Colab_Notebooks/project/TRAIN',target_size=(150,150),batch_size=32, class_mode='categorical')"
      ]
    },
    {
      "cell_type": "code",
      "execution_count": 5,
      "metadata": {
        "colab": {
          "base_uri": "https://localhost:8080/"
        },
        "id": "YtMgptt-dep5",
        "outputId": "3729d0aa-ea46-4417-b683-ccf5d141c706"
      },
      "outputs": [
        {
          "output_type": "stream",
          "name": "stdout",
          "text": [
            "Found 7439 images belonging to 8 classes.\n"
          ]
        }
      ],
      "source": [
        "# Tạo bộ dữ liệu validation\n",
        "validation_set=train_datagen.flow_from_directory('/content/drive/MyDrive/Colab_Notebooks/project/VALIDATION',target_size=(150,150),batch_size=32, class_mode='categorical')"
      ]
    },
    {
      "cell_type": "code",
      "execution_count": 6,
      "metadata": {
        "colab": {
          "base_uri": "https://localhost:8080/"
        },
        "id": "MKaFDZSJdena",
        "outputId": "c332eceb-80de-4a52-acbe-1df735d8c9a5"
      },
      "outputs": [
        {
          "output_type": "execute_result",
          "data": {
            "text/plain": [
              "{'Age related Macular Degeneration': 0,\n",
              " 'Cataract': 1,\n",
              " 'Diabetes': 2,\n",
              " 'Glaucoma': 3,\n",
              " 'Hypertension': 4,\n",
              " 'Normal': 5,\n",
              " 'Other diseases_abnormalities': 6,\n",
              " 'Pathological Myopia': 7}"
            ]
          },
          "metadata": {},
          "execution_count": 6
        }
      ],
      "source": [
        "# Các nhãn có trong bộ dữ liệu training set\n",
        "training_set.class_indices"
      ]
    },
    {
      "cell_type": "code",
      "execution_count": 7,
      "metadata": {
        "colab": {
          "base_uri": "https://localhost:8080/"
        },
        "id": "rBuZsJHzdelE",
        "outputId": "641fa2c5-f9fc-4d96-d7ba-a43db39453c0"
      },
      "outputs": [
        {
          "output_type": "execute_result",
          "data": {
            "text/plain": [
              "{'Age related Macular Degeneration': 0,\n",
              " 'Cataract': 1,\n",
              " 'Diabetes': 2,\n",
              " 'Glaucoma': 3,\n",
              " 'Hypertension': 4,\n",
              " 'Normal': 5,\n",
              " 'Other diseases_abnormalities': 6,\n",
              " 'Pathological Myopia': 7}"
            ]
          },
          "metadata": {},
          "execution_count": 7
        }
      ],
      "source": [
        "# Các nhãn có trong bộ dữ liệu validation\n",
        "validation_set.class_indices"
      ]
    },
    {
      "cell_type": "code",
      "execution_count": 8,
      "metadata": {
        "colab": {
          "base_uri": "https://localhost:8080/"
        },
        "id": "FzUew3YNdeii",
        "outputId": "fbb7a973-d92a-4a4d-e135-7701041e232a"
      },
      "outputs": [
        {
          "output_type": "stream",
          "name": "stdout",
          "text": [
            "Model: \"sequential\"\n",
            "_________________________________________________________________\n",
            " Layer (type)                Output Shape              Param #   \n",
            "=================================================================\n",
            " conv2d (Conv2D)             (None, 150, 150, 32)      896       \n",
            "                                                                 \n",
            " conv2d_1 (Conv2D)           (None, 150, 150, 32)      9248      \n",
            "                                                                 \n",
            " max_pooling2d (MaxPooling2D  (None, 75, 75, 32)       0         \n",
            " )                                                               \n",
            "                                                                 \n",
            " conv2d_2 (Conv2D)           (None, 75, 75, 64)        18496     \n",
            "                                                                 \n",
            " conv2d_3 (Conv2D)           (None, 75, 75, 64)        36928     \n",
            "                                                                 \n",
            " max_pooling2d_1 (MaxPooling  (None, 37, 37, 64)       0         \n",
            " 2D)                                                             \n",
            "                                                                 \n",
            " conv2d_4 (Conv2D)           (None, 37, 37, 128)       73856     \n",
            "                                                                 \n",
            " conv2d_5 (Conv2D)           (None, 37, 37, 128)       147584    \n",
            "                                                                 \n",
            " max_pooling2d_2 (MaxPooling  (None, 18, 18, 128)      0         \n",
            " 2D)                                                             \n",
            "                                                                 \n",
            " flatten (Flatten)           (None, 41472)             0         \n",
            "                                                                 \n",
            " dense (Dense)               (None, 256)               10617088  \n",
            "                                                                 \n",
            " dropout (Dropout)           (None, 256)               0         \n",
            "                                                                 \n",
            " dense_1 (Dense)             (None, 8)                 2056      \n",
            "                                                                 \n",
            "=================================================================\n",
            "Total params: 10,906,152\n",
            "Trainable params: 10,906,152\n",
            "Non-trainable params: 0\n",
            "_________________________________________________________________\n"
          ]
        }
      ],
      "source": [
        "# Tạo ra mạng CNN để train mô hình\n",
        "model=Sequential()\n",
        "# Tích chập 32 lần với mỗi lần là 3 hàng 3 cột\n",
        "model.add(Conv2D(32,(3,3), activation='relu', kernel_initializer='he_uniform', padding='same',input_shape=(150,150,3))) \n",
        "model.add(Conv2D(32,(3,3), activation='relu', kernel_initializer='he_uniform', padding='same'))\n",
        "# Lấy phần tử lớn nhất ở trong 2 hàng và 2 cột\n",
        "model.add(MaxPooling2D(2,2))\n",
        "# Tích chập 64 lần với mỗi lần là 3 hàng 3 cột\n",
        "model.add(Conv2D(64,(3,3), activation='relu', kernel_initializer='he_uniform', padding='same')) \n",
        "model.add(Conv2D(64,(3,3), activation='relu', kernel_initializer='he_uniform', padding='same'))\n",
        "# Lấy phần tử lớn nhất ở trong 2 hàng và 2 cột\n",
        "model.add(MaxPooling2D(2,2))\n",
        "# Tích chập 128 lần với mỗi lần là 3 hàng 3 cột\n",
        "model.add(Conv2D(128,(3,3), activation='relu', kernel_initializer='he_uniform', padding='same')) \n",
        "model.add(Conv2D(128,(3,3), activation='relu', kernel_initializer='he_uniform', padding='same'))\n",
        "# Lấy phần tử lớn nhất ở trong 2 hàng và 2 cột\n",
        "model.add(MaxPooling2D(2,2))\n",
        "# Duỗi thẳng dữ liệu \n",
        "model.add(Flatten())\n",
        "# Tạo lớp ẩn thứ nhất với 128 tín hiệu ra\n",
        "model.add(Dense(256,activation='relu',kernel_initializer='he_uniform'))\n",
        "model.add(Dropout(0.2))\n",
        "# Tạo lớp ẩn thứ hai với 8 tín hiệu ra\n",
        "model.add(Dense(8,activation='softmax'))\n",
        "model.summary()"
      ]
    },
    {
      "cell_type": "code",
      "execution_count": null,
      "metadata": {
        "colab": {
          "base_uri": "https://localhost:8080/"
        },
        "id": "AWiLg5CRdegE",
        "outputId": "cc083996-8f42-4c23-db97-e34a1009d2bc"
      },
      "outputs": [
        {
          "output_type": "stream",
          "name": "stdout",
          "text": [
            "Epoch 1/100\n",
            "233/233 [==============================] - 3334s 14s/step - loss: 1.8511 - accuracy: 0.2838 - val_loss: 1.7252 - val_accuracy: 0.3042\n",
            "Epoch 2/100\n",
            "233/233 [==============================] - 153s 656ms/step - loss: 1.7317 - accuracy: 0.3060 - val_loss: 1.7021 - val_accuracy: 0.3205\n",
            "Epoch 3/100\n",
            "233/233 [==============================] - 151s 650ms/step - loss: 1.7079 - accuracy: 0.3190 - val_loss: 1.6931 - val_accuracy: 0.3142\n",
            "Epoch 4/100\n",
            "233/233 [==============================] - 152s 654ms/step - loss: 1.7021 - accuracy: 0.3182 - val_loss: 1.7119 - val_accuracy: 0.2941\n",
            "Epoch 5/100\n",
            "233/233 [==============================] - 152s 653ms/step - loss: 1.6731 - accuracy: 0.3314 - val_loss: 1.6680 - val_accuracy: 0.3132\n",
            "Epoch 6/100\n",
            "233/233 [==============================] - 152s 652ms/step - loss: 1.6328 - accuracy: 0.3421 - val_loss: 1.5999 - val_accuracy: 0.3487\n",
            "Epoch 7/100\n",
            "233/233 [==============================] - 152s 653ms/step - loss: 1.5795 - accuracy: 0.3525 - val_loss: 1.5484 - val_accuracy: 0.3699\n",
            "Epoch 8/100\n",
            "233/233 [==============================] - 152s 652ms/step - loss: 1.5510 - accuracy: 0.3714 - val_loss: 1.5133 - val_accuracy: 0.3885\n",
            "Epoch 9/100\n",
            "233/233 [==============================] - 151s 648ms/step - loss: 1.5299 - accuracy: 0.3828 - val_loss: 1.5047 - val_accuracy: 0.3849\n",
            "Epoch 10/100\n",
            "233/233 [==============================] - 152s 652ms/step - loss: 1.5134 - accuracy: 0.3843 - val_loss: 1.4803 - val_accuracy: 0.3988\n",
            "Epoch 11/100\n",
            "233/233 [==============================] - 152s 654ms/step - loss: 1.4983 - accuracy: 0.3941 - val_loss: 1.4705 - val_accuracy: 0.3935\n",
            "Epoch 12/100\n",
            "233/233 [==============================] - 151s 648ms/step - loss: 1.4927 - accuracy: 0.3873 - val_loss: 1.4687 - val_accuracy: 0.4060\n",
            "Epoch 13/100\n",
            "233/233 [==============================] - 150s 644ms/step - loss: 1.4813 - accuracy: 0.3944 - val_loss: 1.4446 - val_accuracy: 0.4054\n",
            "Epoch 14/100\n",
            "233/233 [==============================] - 150s 645ms/step - loss: 1.4719 - accuracy: 0.3940 - val_loss: 1.4492 - val_accuracy: 0.4062\n",
            "Epoch 15/100\n",
            "233/233 [==============================] - 148s 636ms/step - loss: 1.4522 - accuracy: 0.4079 - val_loss: 1.4210 - val_accuracy: 0.4087\n",
            "Epoch 16/100\n",
            "233/233 [==============================] - 148s 638ms/step - loss: 1.4354 - accuracy: 0.4056 - val_loss: 1.3935 - val_accuracy: 0.4306\n",
            "Epoch 17/100\n",
            "233/233 [==============================] - 149s 639ms/step - loss: 1.4400 - accuracy: 0.4120 - val_loss: 1.3932 - val_accuracy: 0.4295\n",
            "Epoch 18/100\n",
            "233/233 [==============================] - 148s 638ms/step - loss: 1.4213 - accuracy: 0.4238 - val_loss: 1.3843 - val_accuracy: 0.4316\n",
            "Epoch 19/100\n",
            "233/233 [==============================] - 149s 641ms/step - loss: 1.4160 - accuracy: 0.4224 - val_loss: 1.4054 - val_accuracy: 0.4240\n",
            "Epoch 20/100\n",
            "233/233 [==============================] - 149s 643ms/step - loss: 1.4017 - accuracy: 0.4337 - val_loss: 1.3515 - val_accuracy: 0.4436\n",
            "Epoch 21/100\n",
            "233/233 [==============================] - 148s 636ms/step - loss: 1.3791 - accuracy: 0.4396 - val_loss: 1.3262 - val_accuracy: 0.4534\n",
            "Epoch 22/100\n",
            "233/233 [==============================] - 150s 645ms/step - loss: 1.3841 - accuracy: 0.4255 - val_loss: 1.3466 - val_accuracy: 0.4568\n",
            "Epoch 23/100\n",
            "233/233 [==============================] - 151s 650ms/step - loss: 1.3568 - accuracy: 0.4494 - val_loss: 1.3094 - val_accuracy: 0.4666\n",
            "Epoch 24/100\n",
            "233/233 [==============================] - 151s 651ms/step - loss: 1.3474 - accuracy: 0.4472 - val_loss: 1.3004 - val_accuracy: 0.4728\n",
            "Epoch 25/100\n",
            "233/233 [==============================] - 151s 648ms/step - loss: 1.3484 - accuracy: 0.4472 - val_loss: 1.2900 - val_accuracy: 0.4788\n",
            "Epoch 26/100\n",
            "233/233 [==============================] - 150s 646ms/step - loss: 1.3226 - accuracy: 0.4583 - val_loss: 1.2598 - val_accuracy: 0.4835\n",
            "Epoch 27/100\n",
            "233/233 [==============================] - 149s 641ms/step - loss: 1.3137 - accuracy: 0.4579 - val_loss: 1.2559 - val_accuracy: 0.4833\n",
            "Epoch 28/100\n",
            "233/233 [==============================] - 150s 644ms/step - loss: 1.3012 - accuracy: 0.4608 - val_loss: 1.2463 - val_accuracy: 0.4857\n",
            "Epoch 29/100\n",
            "233/233 [==============================] - 149s 642ms/step - loss: 1.2864 - accuracy: 0.4732 - val_loss: 1.2249 - val_accuracy: 0.4995\n",
            "Epoch 30/100\n",
            "233/233 [==============================] - 150s 643ms/step - loss: 1.2757 - accuracy: 0.4749 - val_loss: 1.2312 - val_accuracy: 0.5007\n",
            "Epoch 31/100\n",
            "233/233 [==============================] - 148s 637ms/step - loss: 1.2612 - accuracy: 0.4799 - val_loss: 1.2030 - val_accuracy: 0.5126\n",
            "Epoch 32/100\n",
            "233/233 [==============================] - 150s 644ms/step - loss: 1.2488 - accuracy: 0.4835 - val_loss: 1.2132 - val_accuracy: 0.5081\n",
            "Epoch 33/100\n",
            "233/233 [==============================] - 149s 640ms/step - loss: 1.2356 - accuracy: 0.4963 - val_loss: 1.1739 - val_accuracy: 0.5251\n",
            "Epoch 34/100\n",
            "233/233 [==============================] - 149s 640ms/step - loss: 1.2189 - accuracy: 0.5015 - val_loss: 1.1389 - val_accuracy: 0.5325\n",
            "Epoch 35/100\n",
            "233/233 [==============================] - 148s 638ms/step - loss: 1.2009 - accuracy: 0.5077 - val_loss: 1.1463 - val_accuracy: 0.5283\n",
            "Epoch 36/100\n",
            "233/233 [==============================] - 149s 640ms/step - loss: 1.1930 - accuracy: 0.5145 - val_loss: 1.1297 - val_accuracy: 0.5404\n",
            "Epoch 37/100\n",
            "233/233 [==============================] - 149s 640ms/step - loss: 1.1809 - accuracy: 0.5118 - val_loss: 1.1009 - val_accuracy: 0.5463\n",
            "Epoch 38/100\n",
            "233/233 [==============================] - 148s 634ms/step - loss: 1.1786 - accuracy: 0.5206 - val_loss: 1.0942 - val_accuracy: 0.5563\n",
            "Epoch 39/100\n",
            "233/233 [==============================] - 148s 636ms/step - loss: 1.1557 - accuracy: 0.5268 - val_loss: 1.0770 - val_accuracy: 0.5620\n",
            "Epoch 40/100\n",
            "233/233 [==============================] - 148s 636ms/step - loss: 1.1347 - accuracy: 0.5345 - val_loss: 1.0612 - val_accuracy: 0.5709\n",
            "Epoch 41/100\n",
            "233/233 [==============================] - 148s 637ms/step - loss: 1.1194 - accuracy: 0.5409 - val_loss: 1.0496 - val_accuracy: 0.5689\n",
            "Epoch 42/100\n",
            "233/233 [==============================] - 147s 630ms/step - loss: 1.1205 - accuracy: 0.5405 - val_loss: 1.0279 - val_accuracy: 0.5869\n",
            "Epoch 43/100\n",
            "233/233 [==============================] - 148s 637ms/step - loss: 1.0893 - accuracy: 0.5507 - val_loss: 1.0125 - val_accuracy: 0.5940\n",
            "Epoch 44/100\n",
            "233/233 [==============================] - 148s 636ms/step - loss: 1.0782 - accuracy: 0.5556 - val_loss: 0.9960 - val_accuracy: 0.5901\n",
            "Epoch 45/100\n",
            "233/233 [==============================] - 149s 640ms/step - loss: 1.0747 - accuracy: 0.5542 - val_loss: 0.9748 - val_accuracy: 0.5982\n",
            "Epoch 46/100\n",
            "233/233 [==============================] - 148s 634ms/step - loss: 1.0617 - accuracy: 0.5592 - val_loss: 0.9670 - val_accuracy: 0.6045\n",
            "Epoch 47/100\n",
            "233/233 [==============================] - 149s 640ms/step - loss: 1.0547 - accuracy: 0.5675 - val_loss: 0.9432 - val_accuracy: 0.6186\n",
            "Epoch 48/100\n",
            "233/233 [==============================] - 148s 638ms/step - loss: 1.0371 - accuracy: 0.5731 - val_loss: 0.9595 - val_accuracy: 0.6038\n",
            "Epoch 49/100\n",
            "233/233 [==============================] - 148s 634ms/step - loss: 1.0267 - accuracy: 0.5862 - val_loss: 0.9411 - val_accuracy: 0.6185\n",
            "Epoch 50/100\n",
            "233/233 [==============================] - 148s 638ms/step - loss: 1.0177 - accuracy: 0.5801 - val_loss: 0.9201 - val_accuracy: 0.6280\n",
            "Epoch 51/100\n",
            "233/233 [==============================] - 149s 639ms/step - loss: 1.0047 - accuracy: 0.5884 - val_loss: 0.9056 - val_accuracy: 0.6451\n",
            "Epoch 52/100\n",
            "233/233 [==============================] - 148s 638ms/step - loss: 0.9922 - accuracy: 0.5938 - val_loss: 0.8782 - val_accuracy: 0.6450\n",
            "Epoch 53/100\n",
            "233/233 [==============================] - 148s 635ms/step - loss: 0.9791 - accuracy: 0.6040 - val_loss: 0.9048 - val_accuracy: 0.6329\n",
            "Epoch 54/100\n",
            "233/233 [==============================] - 149s 640ms/step - loss: 0.9721 - accuracy: 0.5991 - val_loss: 0.8672 - val_accuracy: 0.6512\n",
            "Epoch 55/100\n",
            "233/233 [==============================] - 149s 639ms/step - loss: 0.9592 - accuracy: 0.6087 - val_loss: 0.8683 - val_accuracy: 0.6520\n",
            "Epoch 56/100\n",
            "233/233 [==============================] - 148s 636ms/step - loss: 0.9466 - accuracy: 0.6225 - val_loss: 0.8295 - val_accuracy: 0.6717\n",
            "Epoch 57/100\n",
            "233/233 [==============================] - 149s 639ms/step - loss: 0.9296 - accuracy: 0.6255 - val_loss: 0.8605 - val_accuracy: 0.6556\n",
            "Epoch 58/100\n",
            "233/233 [==============================] - 149s 640ms/step - loss: 0.9470 - accuracy: 0.6197 - val_loss: 0.8115 - val_accuracy: 0.6689\n",
            "Epoch 59/100\n",
            "233/233 [==============================] - 148s 637ms/step - loss: 0.9051 - accuracy: 0.6303 - val_loss: 0.8065 - val_accuracy: 0.6719\n",
            "Epoch 60/100\n",
            "233/233 [==============================] - 148s 634ms/step - loss: 0.9017 - accuracy: 0.6358 - val_loss: 0.8016 - val_accuracy: 0.6876\n",
            "Epoch 61/100\n",
            "233/233 [==============================] - 149s 639ms/step - loss: 0.9158 - accuracy: 0.6241 - val_loss: 0.7893 - val_accuracy: 0.6818\n",
            "Epoch 62/100\n",
            "233/233 [==============================] - 148s 638ms/step - loss: 0.8761 - accuracy: 0.6471 - val_loss: 0.7740 - val_accuracy: 0.6880\n",
            "Epoch 63/100\n",
            "233/233 [==============================] - 147s 632ms/step - loss: 0.8794 - accuracy: 0.6432 - val_loss: 0.7566 - val_accuracy: 0.6916\n",
            "Epoch 64/100\n",
            "233/233 [==============================] - 148s 638ms/step - loss: 0.8600 - accuracy: 0.6540 - val_loss: 0.7330 - val_accuracy: 0.7074\n",
            "Epoch 65/100\n",
            "233/233 [==============================] - 148s 635ms/step - loss: 0.8555 - accuracy: 0.6569 - val_loss: 0.7556 - val_accuracy: 0.7020\n",
            "Epoch 66/100\n",
            "233/233 [==============================] - 148s 637ms/step - loss: 0.8674 - accuracy: 0.6495 - val_loss: 0.7323 - val_accuracy: 0.6990\n",
            "Epoch 67/100\n",
            "233/233 [==============================] - 147s 632ms/step - loss: 0.8475 - accuracy: 0.6556 - val_loss: 0.7159 - val_accuracy: 0.7074\n",
            "Epoch 68/100\n",
            "233/233 [==============================] - 148s 635ms/step - loss: 0.8221 - accuracy: 0.6664 - val_loss: 0.7147 - val_accuracy: 0.7098\n",
            "Epoch 69/100\n",
            "233/233 [==============================] - 148s 638ms/step - loss: 0.8177 - accuracy: 0.6631 - val_loss: 0.7012 - val_accuracy: 0.7149\n",
            "Epoch 70/100\n",
            "233/233 [==============================] - 149s 640ms/step - loss: 0.8380 - accuracy: 0.6572 - val_loss: 0.7024 - val_accuracy: 0.7176\n",
            "Epoch 71/100\n",
            "233/233 [==============================] - 147s 634ms/step - loss: 0.8114 - accuracy: 0.6750 - val_loss: 0.6852 - val_accuracy: 0.7168\n",
            "Epoch 72/100\n",
            "233/233 [==============================] - 149s 642ms/step - loss: 0.7974 - accuracy: 0.6735 - val_loss: 0.6769 - val_accuracy: 0.7282\n",
            "Epoch 73/100\n",
            "233/233 [==============================] - 149s 640ms/step - loss: 0.7951 - accuracy: 0.6751 - val_loss: 0.6679 - val_accuracy: 0.7272\n",
            "Epoch 74/100\n",
            "233/233 [==============================] - 149s 640ms/step - loss: 0.8108 - accuracy: 0.6697 - val_loss: 0.6654 - val_accuracy: 0.7330\n",
            "Epoch 75/100\n",
            "233/233 [==============================] - 148s 635ms/step - loss: 0.7788 - accuracy: 0.6857 - val_loss: 0.6717 - val_accuracy: 0.7268\n",
            "Epoch 76/100\n",
            "233/233 [==============================] - 148s 637ms/step - loss: 0.7704 - accuracy: 0.6889 - val_loss: 0.6416 - val_accuracy: 0.7352\n",
            "Epoch 77/100\n",
            "233/233 [==============================] - 149s 639ms/step - loss: 0.7773 - accuracy: 0.6834 - val_loss: 0.6598 - val_accuracy: 0.7263\n",
            "Epoch 78/100\n",
            "233/233 [==============================] - 149s 642ms/step - loss: 0.7739 - accuracy: 0.6861 - val_loss: 0.6413 - val_accuracy: 0.7451\n",
            "Epoch 79/100\n",
            "233/233 [==============================] - 148s 635ms/step - loss: 0.7555 - accuracy: 0.6891 - val_loss: 0.6266 - val_accuracy: 0.7477\n",
            "Epoch 80/100\n",
            "233/233 [==============================] - 149s 640ms/step - loss: 0.7558 - accuracy: 0.6896 - val_loss: 0.6363 - val_accuracy: 0.7391\n",
            "Epoch 81/100\n",
            "233/233 [==============================] - 148s 638ms/step - loss: 0.7572 - accuracy: 0.6895 - val_loss: 0.6132 - val_accuracy: 0.7496\n",
            "Epoch 82/100\n",
            "233/233 [==============================] - 149s 642ms/step - loss: 0.7268 - accuracy: 0.7012 - val_loss: 0.6350 - val_accuracy: 0.7410\n",
            "Epoch 83/100\n",
            "233/233 [==============================] - 149s 641ms/step - loss: 0.7301 - accuracy: 0.6971 - val_loss: 0.6340 - val_accuracy: 0.7414\n",
            "Epoch 84/100\n",
            "233/233 [==============================] - 148s 635ms/step - loss: 0.7235 - accuracy: 0.7005 - val_loss: 0.6044 - val_accuracy: 0.7556\n",
            "Epoch 85/100\n",
            "233/233 [==============================] - 149s 641ms/step - loss: 0.7091 - accuracy: 0.7086 - val_loss: 0.6152 - val_accuracy: 0.7424\n",
            "Epoch 86/100\n",
            "233/233 [==============================] - 148s 638ms/step - loss: 0.7139 - accuracy: 0.7064 - val_loss: 0.6103 - val_accuracy: 0.7586\n",
            "Epoch 87/100\n",
            "233/233 [==============================] - 147s 633ms/step - loss: 0.7201 - accuracy: 0.7071 - val_loss: 0.5875 - val_accuracy: 0.7588\n",
            "Epoch 88/100\n",
            "233/233 [==============================] - 148s 636ms/step - loss: 0.6949 - accuracy: 0.7201 - val_loss: 0.5823 - val_accuracy: 0.7599\n",
            "Epoch 89/100\n",
            "233/233 [==============================] - 148s 636ms/step - loss: 0.6960 - accuracy: 0.7122 - val_loss: 0.6280 - val_accuracy: 0.7461\n",
            "Epoch 90/100\n",
            "233/233 [==============================] - 149s 640ms/step - loss: 0.7017 - accuracy: 0.7071 - val_loss: 0.5816 - val_accuracy: 0.7673\n",
            "Epoch 91/100\n",
            "233/233 [==============================] - 147s 633ms/step - loss: 0.7038 - accuracy: 0.7135 - val_loss: 0.5770 - val_accuracy: 0.7708\n",
            "Epoch 92/100\n",
            "233/233 [==============================] - 149s 639ms/step - loss: 0.6864 - accuracy: 0.7161 - val_loss: 0.5518 - val_accuracy: 0.7704\n",
            "Epoch 93/100\n",
            "233/233 [==============================] - 148s 637ms/step - loss: 0.6859 - accuracy: 0.7107 - val_loss: 0.5684 - val_accuracy: 0.7681\n",
            "Epoch 94/100\n",
            "233/233 [==============================] - 149s 639ms/step - loss: 0.6790 - accuracy: 0.7228 - val_loss: 0.5496 - val_accuracy: 0.7727\n",
            "Epoch 95/100\n",
            "233/233 [==============================] - ETA: 0s - loss: 0.6637 - accuracy: 0.7301"
          ]
        }
      ],
      "source": [
        "# Biên dịch \n",
        "model.compile(optimizer='adam',loss='categorical_crossentropy',metrics=['accuracy'])\n",
        "# Gán biến lại để vẽ đồ thị, với 100 lần học (epochs), mỗi lần học thì chỉ học␣128 dữ liệu (batch_size), khi sai số không thay đổi trong 100 lần học thì sẽ␣ dừng học \n",
        "history=model.fit(training_set,epochs=100,batch_size=128,verbose=1, validation_data=validation_set, callbacks=[EarlyStopping(monitor='val_loss', patience=100)])"
      ]
    },
    {
      "cell_type": "code",
      "execution_count": null,
      "metadata": {
        "id": "dwI2ssXodedZ"
      },
      "outputs": [],
      "source": [
        "# Đánh giá độ chính xác của mô hình \n",
        "Score=model.evaluate(training_set,verbose=0)\n",
        "print('Train Loss', Score[0])\n",
        "print('Train Accuracy', Score[1])"
      ]
    },
    {
      "cell_type": "code",
      "execution_count": null,
      "metadata": {
        "id": "--x2zWc_debB"
      },
      "outputs": [],
      "source": [
        "# Vẽ đồ thị giữa số lần học (Epochs) và độ chính xác (Accuracy)\n",
        "plt.plot(history.history['accuracy'])\n",
        "plt.plot(history.history['val_accuracy'])\n",
        "plt.title('Model Accuracy')\n",
        "plt.ylabel('Accuracy')\n",
        "plt.xlabel('Epochs')\n",
        "plt.legend(['Train','Validation'])\n",
        "plt.show"
      ]
    },
    {
      "cell_type": "code",
      "source": [
        "model.save(\"project.h5\")"
      ],
      "metadata": {
        "id": "SvvYLAZO8vtn"
      },
      "execution_count": null,
      "outputs": []
    },
    {
      "cell_type": "code",
      "execution_count": null,
      "metadata": {
        "id": "nwcFDAgxdeYg"
      },
      "outputs": [],
      "source": [
        "# Tải mô hình \n",
        "model_CNN=load_model('Project.h5')"
      ]
    },
    {
      "cell_type": "code",
      "execution_count": null,
      "metadata": {
        "id": "BK1-RuhQdeWM"
      },
      "outputs": [],
      "source": [
        "test=\"/content/drive/MyDrive/Colab_Notebooks/project/TEST\"\n",
        "\n",
        "for i in os.listdir(test):\n",
        "  img=load_img(test+'/'+i,target_size=(150,150))\n",
        "  plt.imshow(img)\n",
        "  img=img_to_array(img)\n",
        "  img=img.astype('float32')\n",
        "  img=img/255\n",
        "  img=np.expand_dims(img,axis=0)\n",
        "  result=model_CNN.predict(img)\n",
        "  if round(result[0][0])==1:\n",
        "    prediction='THOÁI HOÁ'\n",
        "  if round(result[0][1])==1:\n",
        "    prediction='ĐỤC THUỶ TINH THỂ'\n",
        "  if round(result[0][2])==1:\n",
        "    prediction='TIỂU ĐƯỜNG'\n",
        "  if round(result[0][3])==1:\n",
        "    prediction='TĂNG NHÃN ÁP'\n",
        "  if round(result[0][4])==1:\n",
        "    prediction='TĂNG HUYẾT ÁP'\n",
        "  if round(result[0][5])==1:\n",
        "    prediction='BÌNH THƯỜNG'\n",
        "  if round(result[0][6])==1:\n",
        "    prediction='BỆNH LÝ KHÁC'\n",
        "  if round(result[0][7])==1:\n",
        "    prediction='CẬN THỊ'\n",
        "  print(prediction)\n",
        "  plt.show()"
      ]
    },
    {
      "cell_type": "code",
      "execution_count": null,
      "metadata": {
        "id": "dQNl0TzudeTT"
      },
      "outputs": [],
      "source": []
    },
    {
      "cell_type": "code",
      "execution_count": null,
      "metadata": {
        "id": "fyNtMmMYdeQd"
      },
      "outputs": [],
      "source": []
    },
    {
      "cell_type": "code",
      "execution_count": null,
      "metadata": {
        "id": "mvCeSHVHdeOH"
      },
      "outputs": [],
      "source": []
    },
    {
      "cell_type": "code",
      "execution_count": null,
      "metadata": {
        "id": "8-9kQteMddVP"
      },
      "outputs": [],
      "source": []
    },
    {
      "cell_type": "code",
      "execution_count": null,
      "metadata": {
        "id": "2TrUsYOiddb2"
      },
      "outputs": [],
      "source": []
    },
    {
      "cell_type": "code",
      "execution_count": null,
      "metadata": {
        "id": "cfAftHVHddeD"
      },
      "outputs": [],
      "source": []
    },
    {
      "cell_type": "markdown",
      "metadata": {
        "id": "1_DSmbllddhZ"
      },
      "source": []
    }
  ],
  "metadata": {
    "colab": {
      "provenance": [],
      "mount_file_id": "1bZOHeEn2bqvem6JZwG5huIAdHmODuSSi",
      "authorship_tag": "ABX9TyOKVr7MZf5VZVBg4IunLary",
      "include_colab_link": true
    },
    "gpuClass": "standard",
    "kernelspec": {
      "display_name": "Python 3",
      "name": "python3"
    },
    "language_info": {
      "name": "python"
    },
    "accelerator": "GPU"
  },
  "nbformat": 4,
  "nbformat_minor": 0
}