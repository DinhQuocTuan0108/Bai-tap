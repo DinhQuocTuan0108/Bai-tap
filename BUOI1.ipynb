{
  "nbformat": 4,
  "nbformat_minor": 0,
  "metadata": {
    "colab": {
      "provenance": [],
      "collapsed_sections": [],
      "authorship_tag": "ABX9TyOQ1Zyi/ydmjQKis/Z+uWlI",
      "include_colab_link": true
    },
    "kernelspec": {
      "name": "python3",
      "display_name": "Python 3"
    },
    "language_info": {
      "name": "python"
    }
  },
  "cells": [
    {
      "cell_type": "markdown",
      "metadata": {
        "id": "view-in-github",
        "colab_type": "text"
      },
      "source": [
        "<a href=\"https://colab.research.google.com/github/DinhQuocTuan0108/Bai-tap/blob/main/6_9.ipynb\" target=\"_parent\"><img src=\"https://colab.research.google.com/assets/colab-badge.svg\" alt=\"Open In Colab\"/></a>"
      ]
    },
    {
      "cell_type": "code",
      "execution_count": null,
      "metadata": {
        "id": "XZfc4CLLkPrV"
      },
      "outputs": [],
      "source": [
        "with open('text.txt',mode = 'w') as accounts :\n",
        "    accounts.write('1 Nguyen Van A 8.0\\n')\n",
        "    accounts.write('2 Le Thi B 6.8\\n')"
      ]
    },
    {
      "cell_type": "code",
      "source": [
        "with open('text.txt',mode='w')as accounts:\n",
        "      print('7:00 Nguyen Van A',file = accounts)\n",
        "      print('7:01 Le Thi B',file = accounts)"
      ],
      "metadata": {
        "id": "nai1mIWQlgJr"
      },
      "execution_count": null,
      "outputs": []
    },
    {
      "cell_type": "code",
      "source": [
        "with open('text.txt',mode='v') as accounts:\n",
        "      print(f'{'name':<20} {'score':>20}')\n",
        "      for record in accounts:\n",
        "        name score = record.split()\n",
        "        print(f'{name:<20}{score:>20}')"
      ],
      "metadata": {
        "id": "dxFzsscqnaYy"
      },
      "execution_count": null,
      "outputs": []
    },
    {
      "cell_type": "code",
      "source": [
        "import pandas as pd\n",
        "url = 'Book1.csv'\n",
        "dataframe=pd.read_csv(url)\n",
        "dataframe.head(10)"
      ],
      "metadata": {
        "id": "sCKu4Uk7o8j3"
      },
      "execution_count": null,
      "outputs": []
    },
    {
      "cell_type": "code",
      "source": [
        "import pandas as pd\n",
        "# Create Dataframe\n",
        "dataframe = pd.DataFrame()\n",
        "#Add Columns\n",
        "dataframe['Name']=['Jacky jackson','Steven Stevenson ']\n",
        "dataframe['Age']=[38,25]\n",
        "dataframe['Driver']=[True,False]\n",
        "#Show DataFrame\n",
        "dataframe"
      ],
      "metadata": {
        "id": "ZCQPFxGMu9JH"
      },
      "execution_count": null,
      "outputs": []
    },
    {
      "cell_type": "code",
      "source": [
        "import pandas as pd\n",
        "url = '1.csv'\n",
        "dataframe=pd.read_csv(url)\n",
        "dataframe = dataframe.set_index(dataframe['HO TEN'])\n",
        "dataframe.loc['TUAN'] "
      ],
      "metadata": {
        "id": "s7-zft1Z0Oq0"
      },
      "execution_count": null,
      "outputs": []
    },
    {
      "cell_type": "code",
      "source": [
        "import pandas as pd\n",
        "url = '1.csv'\n",
        "dataframe=pd.read_csv(url)\n",
        "dataframe = dataframe.set_index(dataframe['SEX'])\n",
        "dataframe = dataframe.set_index(dataframe['KHOA'])\n",
        "dataframe[(dataframe['SEX'] == 'NAM') & (dataframe['KHOA'] == 'FEEE')]\n",
        "dataframe.drop('KHOA',axis=1).head(9)"
      ],
      "metadata": {
        "id": "PgFUFRdl2-Dh"
      },
      "execution_count": null,
      "outputs": []
    },
    {
      "cell_type": "code",
      "source": [
        "import pandas as pd\n",
        "url = '1.csv'\n",
        "dataframe=pd.read_csv(url)\n",
        "dataframe = dataframe.set_index(dataframe['SEX'])\n",
        "dataframe = dataframe.set_index(dataframe['KHOA'])\n",
        "dataframe[(dataframe['SEX'] == 'NAM') & (dataframe['KHOA'] == 'FEEE')]\n",
        "dataframe.drop('MSSV',axis=1).head(9)\n"
      ],
      "metadata": {
        "id": "U8Al4f7D6zfJ"
      },
      "execution_count": null,
      "outputs": []
    },
    {
      "cell_type": "code",
      "source": [
        "import pandas as pd\n",
        "url = '1.csv'\n",
        "dataframe=pd.read_csv(url)\n",
        "dataframe = dataframe.set_index(dataframe['SEX'])\n",
        "dataframe = dataframe.set_index(dataframe['KHOA'])\n",
        "dataframe[(dataframe['SEX'] == 'NAM') & (dataframe['KHOA'] == 'FEEE')]\n",
        "dataframe.drop('MSSV',axis=1).head(9)\n",
        "dataframe.groupby('YEARS').mean()"
      ],
      "metadata": {
        "id": "fKvr9rJb83oQ"
      },
      "execution_count": null,
      "outputs": []
    },
    {
      "cell_type": "code",
      "source": [
        "import pandas as pd\n",
        "url = 'http://winterolympicsmedals.com/medals.csv'\n",
        "dataframe = pd.read_csv(url)\n",
        "dataframe = dataframe.set_index(dataframe['Medal'])\n",
        "dataframe = dataframe.set_index(dataframe['Year'])\n",
        "dataframe = dataframe.set_index(dataframe['City'])\n",
        "dataframe = dataframe.set_index(dataframe['Sport'])\n",
        "dataframe = dataframe.set_index(dataframe['Discipline'])\n",
        "dataframe = dataframe.set_index(dataframe['NOC'])\n",
        "dataframe = dataframe.set_index(dataframe['Event'])\n",
        "dataframe = dataframe.set_index(dataframe['Event gender'])\n",
        "dataframe[(dataframe['NOC'] == 'USA') & (dataframe['Medal'] == 'Gold') & (dataframe['Sport'] == 'Swimming')]"
      ],
      "metadata": {
        "id": "-3dxwBaq9Tc8"
      },
      "execution_count": null,
      "outputs": []
    }
  ]
}
