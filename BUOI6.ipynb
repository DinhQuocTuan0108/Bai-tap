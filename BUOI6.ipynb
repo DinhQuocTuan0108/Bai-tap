{
  "nbformat": 4,
  "nbformat_minor": 0,
  "metadata": {
    "colab": {
      "provenance": [],
      "collapsed_sections": [],
      "authorship_tag": "ABX9TyMpu4JVfrSAQHPQsvcvSg6b",
      "include_colab_link": true
    },
    "kernelspec": {
      "name": "python3",
      "display_name": "Python 3"
    },
    "language_info": {
      "name": "python"
    }
  },
  "cells": [
    {
      "cell_type": "markdown",
      "metadata": {
        "id": "view-in-github",
        "colab_type": "text"
      },
      "source": [
        "<a href=\"https://colab.research.google.com/github/DinhQuocTuan0108/Bai-tap/blob/main/BUOI6.ipynb\" target=\"_parent\"><img src=\"https://colab.research.google.com/assets/colab-badge.svg\" alt=\"Open In Colab\"/></a>"
      ]
    },
    {
      "cell_type": "code",
      "execution_count": 43,
      "metadata": {
        "colab": {
          "base_uri": "https://localhost:8080/"
        },
        "id": "Cmw8cOoO2Dgh",
        "outputId": "226d535d-4568-499d-f81d-d566ba95538a"
      },
      "outputs": [
        {
          "output_type": "execute_result",
          "data": {
            "text/plain": [
              "(10000,)"
            ]
          },
          "metadata": {},
          "execution_count": 43
        }
      ],
      "source": [
        "from keras.datasets import mnist\n",
        "(train_images,train_labels),(test_images,test_labels) = mnist.load_data()\n",
        "train_images.shape\n",
        "train_labels.shape\n",
        "test_images.shape\n",
        "test_labels.shape\n"
      ]
    },
    {
      "cell_type": "code",
      "source": [
        "import matplotlib.pyplot as plt\n",
        "plt.imshow(train_images[5])\n",
        "plt.show()"
      ],
      "metadata": {
        "colab": {
          "base_uri": "https://localhost:8080/",
          "height": 265
        },
        "id": "z9CRFeeV4Ein",
        "outputId": "6d3ea424-a4a7-4710-92b6-1f3b940c77ad"
      },
      "execution_count": 44,
      "outputs": [
        {
          "output_type": "display_data",
          "data": {
            "text/plain": [
              "<Figure size 432x288 with 1 Axes>"
            ],
            "image/png": "[encoded data removed]"
          },
          "metadata": {
            "needs_background": "light"
          }
        }
      ]
    },
    {
      "cell_type": "code",
      "source": [
        "from keras.layers.serialization import activation\n",
        "from keras import models\n",
        "from keras import layers\n",
        "from keras.utils import to_categorical\n",
        "model = models.Sequential()\n",
        "model.add(layers.Dense(512,activation='relu',input_shape=(28*28,)))\n",
        "model.add(layers.Dense(10,activation='softmax'))\n",
        "model.summary()\n",
        "train_images = train_images.reshape((60000,28*28))\n",
        "train_images = train_images.astype('float32')/255\n",
        "test_images = test_images.reshape(10000,28*28)\n",
        "test_images = test_images.astype('float32')/255\n",
        "train_labels = to_categorical(train_labels)\n",
        "test_labels = to_categorical(test_labels)\n",
        "model.compile(optimizer='rmsprop',loss='categorical_crossentropy' , metrics= 'accuracy' )\n",
        "model.fit(train_images,train_labels,epochs=100,batch_size=128)"
      ],
      "metadata": {
        "colab": {
          "base_uri": "https://localhost:8080/"
        },
        "id": "RI-o-0RMCev4",
        "outputId": "69cd2e1e-d953-481a-82c4-cc285b18e192"
      },
      "execution_count": 45,
      "outputs": [
        {
          "output_type": "stream",
          "name": "stdout",
          "text": [
            "Model: \"sequential_17\"\n",
            "_________________________________________________________________\n",
            " Layer (type)                Output Shape              Param #   \n",
            "=================================================================\n",
            " dense_30 (Dense)            (None, 512)               401920    \n",
            "                                                                 \n",
            " dense_31 (Dense)            (None, 10)                5130      \n",
            "                                                                 \n",
            "=================================================================\n",
            "Total params: 407,050\n",
            "Trainable params: 407,050\n",
            "Non-trainable params: 0\n",
            "_________________________________________________________________\n",
            "Epoch 1/100\n",
            "469/469 [==============================] - 5s 10ms/step - loss: 0.2585 - accuracy: 0.9249\n",
            "Epoch 2/100\n",
            "469/469 [==============================] - 5s 10ms/step - loss: 0.1058 - accuracy: 0.9695\n",
            "Epoch 3/100\n",
            "469/469 [==============================] - 5s 10ms/step - loss: 0.0693 - accuracy: 0.9793\n",
            "Epoch 4/100\n",
            "469/469 [==============================] - 5s 10ms/step - loss: 0.0500 - accuracy: 0.9854\n",
            "Epoch 5/100\n",
            "469/469 [==============================] - 5s 10ms/step - loss: 0.0385 - accuracy: 0.9886\n",
            "Epoch 6/100\n",
            "469/469 [==============================] - 5s 10ms/step - loss: 0.0296 - accuracy: 0.9914\n",
            "Epoch 7/100\n",
            "469/469 [==============================] - 5s 10ms/step - loss: 0.0221 - accuracy: 0.9935\n",
            "Epoch 8/100\n",
            "469/469 [==============================] - 5s 10ms/step - loss: 0.0171 - accuracy: 0.9948\n",
            "Epoch 9/100\n",
            "469/469 [==============================] - 5s 10ms/step - loss: 0.0128 - accuracy: 0.9962\n",
            "Epoch 10/100\n",
            "469/469 [==============================] - 5s 10ms/step - loss: 0.0105 - accuracy: 0.9970\n",
            "Epoch 11/100\n",
            "469/469 [==============================] - 4s 10ms/step - loss: 0.0079 - accuracy: 0.9978\n",
            "Epoch 12/100\n",
            "469/469 [==============================] - 4s 10ms/step - loss: 0.0066 - accuracy: 0.9979\n",
            "Epoch 13/100\n",
            "469/469 [==============================] - 5s 10ms/step - loss: 0.0049 - accuracy: 0.9987\n",
            "Epoch 14/100\n",
            "469/469 [==============================] - 5s 10ms/step - loss: 0.0040 - accuracy: 0.9988\n",
            "Epoch 15/100\n",
            "469/469 [==============================] - 5s 10ms/step - loss: 0.0029 - accuracy: 0.9994\n",
            "Epoch 16/100\n",
            "469/469 [==============================] - 5s 10ms/step - loss: 0.0024 - accuracy: 0.9994\n",
            "Epoch 17/100\n",
            "469/469 [==============================] - 5s 10ms/step - loss: 0.0021 - accuracy: 0.9995\n",
            "Epoch 18/100\n",
            "469/469 [==============================] - 5s 10ms/step - loss: 0.0011 - accuracy: 0.9997\n",
            "Epoch 19/100\n",
            "469/469 [==============================] - 6s 12ms/step - loss: 0.0013 - accuracy: 0.9997\n",
            "Epoch 20/100\n",
            "469/469 [==============================] - 5s 10ms/step - loss: 9.2308e-04 - accuracy: 0.9998\n",
            "Epoch 21/100\n",
            "469/469 [==============================] - 5s 10ms/step - loss: 0.0011 - accuracy: 0.9997\n",
            "Epoch 22/100\n",
            "469/469 [==============================] - 5s 10ms/step - loss: 7.0085e-04 - accuracy: 0.9998\n",
            "Epoch 23/100\n",
            "469/469 [==============================] - 5s 10ms/step - loss: 6.2796e-04 - accuracy: 0.9998\n",
            "Epoch 24/100\n",
            "469/469 [==============================] - 5s 10ms/step - loss: 3.6118e-04 - accuracy: 0.9999\n",
            "Epoch 25/100\n",
            "469/469 [==============================] - 5s 10ms/step - loss: 4.4052e-04 - accuracy: 0.9999\n",
            "Epoch 26/100\n",
            "469/469 [==============================] - 5s 10ms/step - loss: 2.6747e-04 - accuracy: 0.9999\n",
            "Epoch 27/100\n",
            "469/469 [==============================] - 4s 10ms/step - loss: 1.6653e-04 - accuracy: 1.0000\n",
            "Epoch 28/100\n",
            "469/469 [==============================] - 5s 10ms/step - loss: 2.1620e-04 - accuracy: 0.9999\n",
            "Epoch 29/100\n",
            "469/469 [==============================] - 5s 10ms/step - loss: 1.7146e-04 - accuracy: 0.9999\n",
            "Epoch 30/100\n",
            "469/469 [==============================] - 4s 9ms/step - loss: 1.5612e-04 - accuracy: 0.9999\n",
            "Epoch 31/100\n",
            "469/469 [==============================] - 5s 10ms/step - loss: 1.0855e-04 - accuracy: 1.0000\n",
            "Epoch 32/100\n",
            "469/469 [==============================] - 5s 10ms/step - loss: 1.5450e-04 - accuracy: 0.9999\n",
            "Epoch 33/100\n",
            "469/469 [==============================] - 5s 10ms/step - loss: 1.0444e-04 - accuracy: 1.0000\n",
            "Epoch 34/100\n",
            "469/469 [==============================] - 5s 10ms/step - loss: 6.8448e-05 - accuracy: 0.9999\n",
            "Epoch 35/100\n",
            "469/469 [==============================] - 5s 10ms/step - loss: 9.0779e-05 - accuracy: 1.0000\n",
            "Epoch 36/100\n",
            "469/469 [==============================] - 5s 10ms/step - loss: 3.6278e-05 - accuracy: 1.0000\n",
            "Epoch 37/100\n",
            "469/469 [==============================] - 4s 10ms/step - loss: 2.7964e-05 - accuracy: 1.0000\n",
            "Epoch 38/100\n",
            "469/469 [==============================] - 5s 10ms/step - loss: 1.1228e-04 - accuracy: 1.0000\n",
            "Epoch 39/100\n",
            "469/469 [==============================] - 5s 10ms/step - loss: 3.6362e-05 - accuracy: 1.0000\n",
            "Epoch 40/100\n",
            "469/469 [==============================] - 5s 10ms/step - loss: 4.7957e-06 - accuracy: 1.0000\n",
            "Epoch 41/100\n",
            "469/469 [==============================] - 5s 10ms/step - loss: 1.7152e-05 - accuracy: 1.0000\n",
            "Epoch 42/100\n",
            "469/469 [==============================] - 5s 10ms/step - loss: 6.1695e-06 - accuracy: 1.0000\n",
            "Epoch 43/100\n",
            "469/469 [==============================] - 5s 10ms/step - loss: 2.0681e-06 - accuracy: 1.0000\n",
            "Epoch 44/100\n",
            "469/469 [==============================] - 5s 10ms/step - loss: 1.2173e-07 - accuracy: 1.0000\n",
            "Epoch 45/100\n",
            "469/469 [==============================] - 5s 10ms/step - loss: 3.6144e-08 - accuracy: 1.0000\n",
            "Epoch 46/100\n",
            "469/469 [==============================] - 5s 10ms/step - loss: 2.3113e-08 - accuracy: 1.0000\n",
            "Epoch 47/100\n",
            "469/469 [==============================] - 5s 10ms/step - loss: 1.9699e-08 - accuracy: 1.0000\n",
            "Epoch 48/100\n",
            "469/469 [==============================] - 5s 10ms/step - loss: 1.7083e-08 - accuracy: 1.0000\n",
            "Epoch 49/100\n",
            "469/469 [==============================] - 5s 10ms/step - loss: 1.5364e-08 - accuracy: 1.0000\n",
            "Epoch 50/100\n",
            "469/469 [==============================] - 5s 10ms/step - loss: 1.4379e-08 - accuracy: 1.0000\n",
            "Epoch 51/100\n",
            "469/469 [==============================] - 5s 10ms/step - loss: 1.3312e-08 - accuracy: 1.0000\n",
            "Epoch 52/100\n",
            "469/469 [==============================] - 5s 10ms/step - loss: 1.2497e-08 - accuracy: 1.0000\n",
            "Epoch 53/100\n",
            "469/469 [==============================] - 5s 10ms/step - loss: 1.1764e-08 - accuracy: 1.0000\n",
            "Epoch 54/100\n",
            "469/469 [==============================] - 5s 10ms/step - loss: 1.1086e-08 - accuracy: 1.0000\n",
            "Epoch 55/100\n",
            "469/469 [==============================] - 5s 10ms/step - loss: 1.0645e-08 - accuracy: 1.0000\n",
            "Epoch 56/100\n",
            "469/469 [==============================] - 5s 10ms/step - loss: 1.0149e-08 - accuracy: 1.0000\n",
            "Epoch 57/100\n",
            "469/469 [==============================] - 5s 10ms/step - loss: 9.8030e-09 - accuracy: 1.0000\n",
            "Epoch 58/100\n",
            "469/469 [==============================] - 6s 12ms/step - loss: 9.3599e-09 - accuracy: 1.0000\n",
            "Epoch 59/100\n",
            "469/469 [==============================] - 8s 18ms/step - loss: 9.0539e-09 - accuracy: 1.0000\n",
            "Epoch 60/100\n",
            "469/469 [==============================] - 7s 15ms/step - loss: 8.7082e-09 - accuracy: 1.0000\n",
            "Epoch 61/100\n",
            "469/469 [==============================] - 5s 10ms/step - loss: 8.4221e-09 - accuracy: 1.0000\n",
            "Epoch 62/100\n",
            "469/469 [==============================] - 7s 14ms/step - loss: 8.2076e-09 - accuracy: 1.0000\n",
            "Epoch 63/100\n",
            "469/469 [==============================] - 8s 18ms/step - loss: 7.9234e-09 - accuracy: 1.0000\n",
            "Epoch 64/100\n",
            "469/469 [==============================] - 8s 16ms/step - loss: 7.7009e-09 - accuracy: 1.0000\n",
            "Epoch 65/100\n",
            "469/469 [==============================] - 9s 18ms/step - loss: 7.5320e-09 - accuracy: 1.0000\n",
            "Epoch 66/100\n",
            "469/469 [==============================] - 8s 17ms/step - loss: 7.3731e-09 - accuracy: 1.0000\n",
            "Epoch 67/100\n",
            "469/469 [==============================] - 6s 12ms/step - loss: 7.1426e-09 - accuracy: 1.0000\n",
            "Epoch 68/100\n",
            "469/469 [==============================] - 7s 16ms/step - loss: 6.9737e-09 - accuracy: 1.0000\n",
            "Epoch 69/100\n",
            "469/469 [==============================] - 7s 15ms/step - loss: 6.7890e-09 - accuracy: 1.0000\n",
            "Epoch 70/100\n",
            "469/469 [==============================] - 5s 11ms/step - loss: 6.6221e-09 - accuracy: 1.0000\n",
            "Epoch 71/100\n",
            "469/469 [==============================] - 6s 13ms/step - loss: 6.5426e-09 - accuracy: 1.0000\n",
            "Epoch 72/100\n",
            "469/469 [==============================] - 6s 14ms/step - loss: 6.4194e-09 - accuracy: 1.0000\n",
            "Epoch 73/100\n",
            "469/469 [==============================] - 5s 11ms/step - loss: 6.3300e-09 - accuracy: 1.0000\n",
            "Epoch 74/100\n",
            "469/469 [==============================] - 5s 10ms/step - loss: 6.1572e-09 - accuracy: 1.0000\n",
            "Epoch 75/100\n",
            "469/469 [==============================] - 5s 11ms/step - loss: 6.0081e-09 - accuracy: 1.0000\n",
            "Epoch 76/100\n",
            "469/469 [==============================] - 7s 14ms/step - loss: 5.9625e-09 - accuracy: 1.0000\n",
            "Epoch 77/100\n",
            "469/469 [==============================] - 5s 11ms/step - loss: 5.9048e-09 - accuracy: 1.0000\n",
            "Epoch 78/100\n",
            "469/469 [==============================] - 5s 10ms/step - loss: 5.8254e-09 - accuracy: 1.0000\n",
            "Epoch 79/100\n",
            "469/469 [==============================] - 5s 11ms/step - loss: 5.7399e-09 - accuracy: 1.0000\n",
            "Epoch 80/100\n",
            "469/469 [==============================] - 5s 10ms/step - loss: 5.5969e-09 - accuracy: 1.0000\n",
            "Epoch 81/100\n",
            "469/469 [==============================] - 5s 10ms/step - loss: 5.5552e-09 - accuracy: 1.0000\n",
            "Epoch 82/100\n",
            "469/469 [==============================] - 5s 10ms/step - loss: 5.4836e-09 - accuracy: 1.0000\n",
            "Epoch 83/100\n",
            "469/469 [==============================] - 5s 10ms/step - loss: 5.4320e-09 - accuracy: 1.0000\n",
            "Epoch 84/100\n",
            "469/469 [==============================] - 5s 10ms/step - loss: 5.3664e-09 - accuracy: 1.0000\n",
            "Epoch 85/100\n",
            "469/469 [==============================] - 5s 11ms/step - loss: 5.3068e-09 - accuracy: 1.0000\n",
            "Epoch 86/100\n",
            "469/469 [==============================] - 5s 10ms/step - loss: 5.2412e-09 - accuracy: 1.0000\n",
            "Epoch 87/100\n",
            "469/469 [==============================] - 5s 10ms/step - loss: 5.1717e-09 - accuracy: 1.0000\n",
            "Epoch 88/100\n",
            "469/469 [==============================] - 5s 10ms/step - loss: 5.1260e-09 - accuracy: 1.0000\n",
            "Epoch 89/100\n",
            "469/469 [==============================] - 5s 10ms/step - loss: 5.1240e-09 - accuracy: 1.0000\n",
            "Epoch 90/100\n",
            "469/469 [==============================] - 5s 10ms/step - loss: 5.0942e-09 - accuracy: 1.0000\n",
            "Epoch 91/100\n",
            "469/469 [==============================] - 5s 10ms/step - loss: 5.0406e-09 - accuracy: 1.0000\n",
            "Epoch 92/100\n",
            "469/469 [==============================] - 5s 10ms/step - loss: 4.9293e-09 - accuracy: 1.0000\n",
            "Epoch 93/100\n",
            "469/469 [==============================] - 5s 10ms/step - loss: 4.9353e-09 - accuracy: 1.0000\n",
            "Epoch 94/100\n",
            "469/469 [==============================] - 5s 10ms/step - loss: 4.9074e-09 - accuracy: 1.0000\n",
            "Epoch 95/100\n",
            "469/469 [==============================] - 5s 10ms/step - loss: 4.8816e-09 - accuracy: 1.0000\n",
            "Epoch 96/100\n",
            "469/469 [==============================] - 4s 10ms/step - loss: 4.8955e-09 - accuracy: 1.0000\n",
            "Epoch 97/100\n",
            "469/469 [==============================] - 5s 10ms/step - loss: 4.7565e-09 - accuracy: 1.0000\n",
            "Epoch 98/100\n",
            "469/469 [==============================] - 5s 10ms/step - loss: 4.8280e-09 - accuracy: 1.0000\n",
            "Epoch 99/100\n",
            "469/469 [==============================] - 4s 10ms/step - loss: 4.7465e-09 - accuracy: 1.0000\n",
            "Epoch 100/100\n",
            "469/469 [==============================] - 4s 10ms/step - loss: 4.7247e-09 - accuracy: 1.0000\n"
          ]
        },
        {
          "output_type": "execute_result",
          "data": {
            "text/plain": [
              "<keras.callbacks.History at 0x7f63c6fb3390>"
            ]
          },
          "metadata": {},
          "execution_count": 45
        }
      ]
    },
    {
      "cell_type": "code",
      "source": [
        "test_loss,test_acc=model.evaluate(test_images,test_labels)\n",
        "print('Test accuracy:',test_acc)"
      ],
      "metadata": {
        "colab": {
          "base_uri": "https://localhost:8080/"
        },
        "id": "ScPlylqOFrpM",
        "outputId": "6a908064-bc04-434c-9d2c-d4da131997a9"
      },
      "execution_count": 47,
      "outputs": [
        {
          "output_type": "stream",
          "name": "stdout",
          "text": [
            "313/313 [==============================] - 2s 5ms/step - loss: 0.1530 - accuracy: 0.9841\n",
            "Test accuracy: 0.9840999841690063\n"
          ]
        }
      ]
    }
  ]
}