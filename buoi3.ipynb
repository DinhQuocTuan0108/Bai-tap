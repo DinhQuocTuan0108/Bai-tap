{
  "nbformat": 4,
  "nbformat_minor": 0,
  "metadata": {
    "colab": {
      "provenance": [],
      "collapsed_sections": [],
      "authorship_tag": "ABX9TyOyL60thPWCFd53Tee8CpdG",
      "include_colab_link": true
    },
    "kernelspec": {
      "name": "python3",
      "display_name": "Python 3"
    },
    "language_info": {
      "name": "python"
    }
  },
  "cells": [
    {
      "cell_type": "markdown",
      "metadata": {
        "id": "view-in-github",
        "colab_type": "text"
      },
      "source": [
        "<a href=\"https://colab.research.google.com/github/DinhQuocTuan0108/Bai-tap/blob/main/buoi3.ipynb\" target=\"_parent\"><img src=\"https://colab.research.google.com/assets/colab-badge.svg\" alt=\"Open In Colab\"/></a>"
      ]
    },
    {
      "cell_type": "code",
      "execution_count": null,
      "metadata": {
        "colab": {
          "base_uri": "https://localhost:8080/"
        },
        "id": "Q8II3P9_ynB-",
        "outputId": "b019d669-0610-42c8-c2f6-6d987557dc4d"
      },
      "outputs": [
        {
          "output_type": "stream",
          "name": "stdout",
          "text": [
            "Looking in indexes: https://pypi.org/simple, https://us-python.pkg.dev/colab-wheels/public/simple/\n",
            "Collecting scikit-fuzzy\n",
            "  Downloading scikit-fuzzy-0.4.2.tar.gz (993 kB)\n",
            "\u001b[K     |████████████████████████████████| 993 kB 7.5 MB/s \n",
            "\u001b[?25hRequirement already satisfied: numpy>=1.6.0 in /usr/local/lib/python3.7/dist-packages (from scikit-fuzzy) (1.21.6)\n",
            "Requirement already satisfied: scipy>=0.9.0 in /usr/local/lib/python3.7/dist-packages (from scikit-fuzzy) (1.7.3)\n",
            "Requirement already satisfied: networkx>=1.9.0 in /usr/local/lib/python3.7/dist-packages (from scikit-fuzzy) (2.6.3)\n",
            "Building wheels for collected packages: scikit-fuzzy\n",
            "  Building wheel for scikit-fuzzy (setup.py) ... \u001b[?25l\u001b[?25hdone\n",
            "  Created wheel for scikit-fuzzy: filename=scikit_fuzzy-0.4.2-py3-none-any.whl size=894089 sha256=b01289a45eb463bc825bff1b9e47e95a671b565612b707e29c891bdcf785fe10\n",
            "  Stored in directory: /root/.cache/pip/wheels/d5/74/fc/38588a3d2e3f34f74588e6daa3aa5b0a322bd6f9420a707131\n",
            "Successfully built scikit-fuzzy\n",
            "Installing collected packages: scikit-fuzzy\n",
            "Successfully installed scikit-fuzzy-0.4.2\n"
          ]
        }
      ],
      "source": [
        "pip install scikit-fuzzy\n"
      ]
    },
    {
      "cell_type": "code",
      "source": [
        "import numpy as np\n",
        "import skfuzzy as fuzz\n",
        "x=np.arange(11)\n",
        "mfx=fuzz.trimf(x,[0,5,10])\n",
        "x\n",
        "mfx"
      ],
      "metadata": {
        "id": "feiOJizZzKf9"
      },
      "execution_count": null,
      "outputs": []
    },
    {
      "cell_type": "code",
      "source": [
        "import numpy as np\n",
        "import skfuzzy as fuzz\n",
        "from skfuzzy import control as ctrl\n",
        "food=ctrl.Antecedent(np.arange(0,11,1),'food')\n",
        "service=ctrl.Antecedent(np.arange(0,11,1),'service')\n",
        "tip=ctrl.Consequent(np.arange(10,26,1),'tip')\n",
        "food['poor']=fuzz.trimf(food.universe,[0,0,5])\n",
        "food['nomal']=fuzz.trimf(food.universe,[0,5,10])\n",
        "food['good']=fuzz.trimf(food.universe,[5,10,10])\n",
        "service['poor']=fuzz.trimf(service.universe,[0,0,5])\n",
        "service['nomal']=fuzz.trimf(service.universe,[0,5,10])\n",
        "service['good']=fuzz.trimf(service.universe,[5,10,10])\n",
        "tip['less']=fuzz.trimf(tip.universe,[10,14,18])\n",
        "tip['nomal']=fuzz.trimf(tip.universe,[14,18,22])\n",
        "tip['much']=fuzz.trimf(tip.universe,[18,22,25])\n",
        "food.view()\n",
        "service.view()\n",
        "tip.view()"
      ],
      "metadata": {
        "id": "F3JiqCaS16Cf"
      },
      "execution_count": null,
      "outputs": []
    },
    {
      "cell_type": "code",
      "source": [
        "import numpy as np\n",
        "import skfuzzy as fuzz\n",
        "from skfuzzy import control as ctrl\n",
        "food=ctrl.Antecedent(np.arange(0,11,1),'food')\n",
        "service=ctrl.Antecedent(np.arange(0,11,1),'service')\n",
        "tip=ctrl.Consequent(np.arange(10,26,1),'tip')\n",
        "food['poor']=fuzz.trimf(food.universe,[0,0,5])\n",
        "food['nomal']=fuzz.trimf(food.universe,[0,5,10])\n",
        "food['good']=fuzz.trimf(food.universe,[5,10,10])\n",
        "service['poor']=fuzz.trimf(service.universe,[0,0,5])\n",
        "service['nomal']=fuzz.trimf(service.universe,[0,5,10])\n",
        "service['good']=fuzz.trimf(service.universe,[5,10,10])\n",
        "tip['less']=fuzz.trimf(tip.universe,[10,14,18])\n",
        "tip['nomal']=fuzz.trimf(tip.universe,[14,18,22])\n",
        "tip['much']=fuzz.trimf(tip.universe,[18,22,25])\n",
        "rule1=ctrl.Rule(food['poor'] & service['poor'],tip['less'])\n",
        "rule2=ctrl.Rule(food['poor'] & service['nomal'],tip['less'])\n",
        "rule3=ctrl.Rule(food['poor'] & service['good'],tip['nomal'])\n",
        "rule4=ctrl.Rule(food['nomal'] & service['poor'],tip['less'])\n",
        "rule5=ctrl.Rule(food['nomal'] & service['nomal'],tip['nomal'])\n",
        "rule6=ctrl.Rule(food['nomal'] & service['good'],tip['much'])\n",
        "rule7=ctrl.Rule(food['good'] & service['poor'],tip['nomal'])\n",
        "rule8=ctrl.Rule(food['good'] & service['nomal'],tip['nomal'])\n",
        "rule9=ctrl.Rule(food['good'] & service['good'],tip['much'])\n",
        "tipping_ctrl=ctrl.ControlSystem([rule1,rule2,rule3,rule4,rule5,rule6,rule7,rule8,rule9])\n",
        "tipping=ctrl.ControlSystemSimulation(tipping_ctrl)\n",
        "tipping.input['food']=10\n",
        "tipping.input['service']=10\n",
        "tipping.compute()\n",
        "print(tipping.output[\"tip\"])\n",
        "tip.view(sim=tipping)"
      ],
      "metadata": {
        "id": "m2EWWB5c6aff"
      },
      "execution_count": null,
      "outputs": []
    },
    {
      "cell_type": "code",
      "source": [
        "import numpy as np\n",
        "import skfuzzy as fuzz\n",
        "from skfuzzy import control as ctrl\n",
        "time=ctrl.Antecedent(np.arange(10,101,1),'time')\n",
        "rice=ctrl.Antecedent(np.arange(100,1001,1),'rice')\n",
        "power=ctrl.Consequent(np.arange(0,101,1),'power')\n",
        "time['very fast']=fuzz.trimf(time.universe,[10,10,30])\n",
        "time['fast']=fuzz.trimf(time.universe,[20,30,40])\n",
        "time['nomal']=fuzz.trimf(time.universe,[40,50,60])\n",
        "time['slow']=fuzz.trimf(time.universe,[60,70,80])\n",
        "time['very slow']=fuzz.trimf(time.universe,[70,100,100])\n",
        "rice['very less']=fuzz.trimf(rice.universe,[100,100,300])\n",
        "rice['less']=fuzz.trimf(rice.universe,[200,300,400])\n",
        "rice['nomal']=fuzz.trimf(rice.universe,[400,500,600])\n",
        "rice['much']=fuzz.trimf(rice.universe,[600,700,800])\n",
        "rice['very much']=fuzz.trimf(rice.universe,[700,1000,1000])\n",
        "power['max']=fuzz.trimf(power.universe,[80,90,100])\n",
        "power['high']=fuzz.trimf(power.universe,[50,70,90])\n",
        "power['nomal']=fuzz.trimf(power.universe,[30,50,70])\n",
        "rule1=ctrl.Rule(time['very fast'] & rice['very less'],power['nomal'])\n",
        "rule2=ctrl.Rule(time['very fast'] & rice['less'],power['nomal'])\n",
        "rule3=ctrl.Rule(time['very fast'] & rice['nomal'],power['high'])\n",
        "rule4=ctrl.Rule(time['very fast'] & rice['much'],power['max'])\n",
        "rule5=ctrl.Rule(time['very fast'] & rice['very much'],power['max'])\n",
        "rule6=ctrl.Rule(time['fast'] & rice['very less'],power['nomal'])\n",
        "rule7=ctrl.Rule(time['fast'] & rice['less'],power['high'])\n",
        "rule8=ctrl.Rule(time['fast'] & rice['nomal'],power['high'])\n",
        "rule9=ctrl.Rule(time['fast'] & rice['much'],power['max'])\n",
        "rule10=ctrl.Rule(time['fast'] & rice['very much'],power['max'])\n",
        "rule11=ctrl.Rule(time['nomal'] & rice['very less'],power['nomal'])\n",
        "rule12=ctrl.Rule(time['nomal'] & rice['less'],power['nomal'])\n",
        "rule13=ctrl.Rule(time['nomal'] & rice['nomal'],power['nomal'])\n",
        "rule14=ctrl.Rule(time['nomal'] & rice['much'],power['high'])\n",
        "rule15=ctrl.Rule(time['nomal'] & rice['very much'],power['high'])\n",
        "rule16=ctrl.Rule(time['slow'] & rice['very less'],power['nomal'])\n",
        "rule17=ctrl.Rule(time['slow'] & rice['less'],power['nomal'])\n",
        "rule18=ctrl.Rule(time['slow'] & rice['nomal'],power['high'])\n",
        "rule19=ctrl.Rule(time['slow'] & rice['much'],power['high'])\n",
        "rule20=ctrl.Rule(time['slow'] & rice['very much'],power['high'])\n",
        "rule21=ctrl.Rule(time['very slow'] & rice['very less'],power['nomal'])\n",
        "rule22=ctrl.Rule(time['very slow'] & rice['less'],power['nomal'])\n",
        "rule23=ctrl.Rule(time['very slow'] & rice['nomal'],power['nomal'])\n",
        "rule24=ctrl.Rule(time['very slow'] & rice['much'],power['high'])\n",
        "rule25=ctrl.Rule(time['very slow'] & rice['very much'],power['max'])\n",
        "cooking_ctrl=ctrl.ControlSystem([rule1,rule2,rule3,rule4,rule5,rule6,rule7,rule8,rule9,rule10,rule11,rule12,rule13,rule14,rule15,rule16,rule17,rule18,rule19,rule20,rule21,rule22,rule23,rule24,rule25])\n",
        "cooking=ctrl.ControlSystemSimulation(cooking_ctrl)\n",
        "cooking.input['rice']=1000\n",
        "cooking.input['time']=10\n",
        "cooking.compute()\n",
        "print(cooking.output[\"power\"])\n",
        "power.view(sim=cooking)"
      ],
      "metadata": {
        "id": "5toIA7Eu_plG",
        "colab": {
          "base_uri": "https://localhost:8080/",
          "height": 298
        },
        "outputId": "d9f7bab7-bd52-4877-b644-74001749bbbb"
      },
      "execution_count": null,
      "outputs": [
        {
          "output_type": "stream",
          "name": "stdout",
          "text": [
            "90.0\n"
          ]
        },
        {
          "output_type": "display_data",
          "data": {
            "text/plain": [
              "<Figure size 432x288 with 1 Axes>"
            ],
            "image/png": "[encoded data removed]"
          },
          "metadata": {
            "needs_background": "light"
          }
        }
      ]
    }
  ]
}